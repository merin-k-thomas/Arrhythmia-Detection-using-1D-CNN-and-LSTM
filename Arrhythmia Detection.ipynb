{
 "cells": [
  {
   "cell_type": "markdown",
   "metadata": {},
   "source": [
    "# Arrhythmia Detection using CNN and LSTM"
   ]
  },
  {
   "cell_type": "markdown",
   "metadata": {},
   "source": [
    "The aim of this work is based on 1D-CNN layers and a Long Short-Term Memory (LSTM) network for the detection of arrhythmia."
   ]
  },
  {
   "cell_type": "markdown",
   "metadata": {},
   "source": [
    "### Introduction\n",
    "Arrhythmia is caused by electrical dysfunction, which can affect heart shape or disrupt the heart rate. The electrocardiogram (ECG) is an important diagnostic tool in cardiology for determining and analysis of cardiac conditions of patients most especially life-threatening heart diseases and abnormalities such as arrhythmias. ElectroCardioGraphy (ECG), that is the process of recording the electrical activity of the heart. A patient with arrhythmia can feel their heartbeat racing, fluttering or skipping more or like palpitation. The symptoms are shortness of breath, fainting, lightheadedness, chest pain or even no symptoms at all. There are three major types of arrhythmias: Bradycardia (slow), Irregular or Extra heartbeat, Tachycardia (rapid).\n",
    "    \n",
    "### Dataset\n",
    "Data from the MIT-BIH arrhythmia database were used in this study. The database contains 48 recordings, each containing\n",
    "two 30-min ECG lead signals. In agreement with the AAMI recommended practice, the four recordings containing paced beats were removed from the analysis."
   ]
  },
  {
   "cell_type": "code",
   "execution_count": 1,
   "metadata": {},
   "outputs": [
    {
     "name": "stderr",
     "output_type": "stream",
     "text": [
      "Using TensorFlow backend.\n"
     ]
    }
   ],
   "source": [
    "# Import modules\n",
    "\n",
    "from sklearn.preprocessing import StandardScaler\n",
    "from sklearn.preprocessing import OneHotEncoder\n",
    "from sklearn.preprocessing import LabelEncoder\n",
    "from sklearn import metrics\n",
    "import os\n",
    "import glob\n",
    "import wfdb\n",
    "import keras\n",
    "import random\n",
    "import datetime\n",
    "import numpy as np\n",
    "import matplotlib.pyplot as plt\n",
    "%matplotlib inline\n",
    "\n",
    "import warnings\n",
    "warnings.simplefilter('ignore')"
   ]
  },
  {
   "cell_type": "markdown",
   "metadata": {},
   "source": [
    "First we will store the paths of the ECG signals. According to the Association for the Advancement of Medical Instrumentation (AAMI) recommended practice, the 4 paced beats are excluded in this experimental evaluation process because these beats do not retain sufficient signal quality for reliable processing. Also, the paced beats are from the pacemakers."
   ]
  },
  {
   "cell_type": "code",
   "execution_count": 2,
   "metadata": {},
   "outputs": [],
   "source": [
    "DATASET_PATH = './mitdb'\n",
    "header_path = os.path.join(DATASET_PATH, '*hea')\n",
    "paths = glob.glob(header_path)\n",
    "\n",
    "# Remove the extension and store the path\n",
    "paths = [path[:-4] for path in paths]\n",
    "\n",
    "# Remove paced beat record\n",
    "remove_paced_beats = ['102', '104', '107', '217']\n",
    "\n",
    "# Store the data path\n",
    "data_paths = [path for path in paths if path[-3:] not in remove_paced_beats]\n",
    "\n",
    "train_data = ['101', '106', '108', '109', '112', '114', '115', '116', '118', '119', '122', \n",
    "              '124', '201', '203', '205', '207', '208', '209', '215', '220', '223', '230']\n",
    "\n",
    "train_data_paths = [path for path in data_paths if path[-3:] in train_data]\n",
    "\n",
    "test_data = ['100', '103', '105', '111', '113', '117', '121', '123', '200', '202', '210', \n",
    "             '212', '213', '214', '219', '221', '222', '228', '231', '232', '233', '234']\n",
    "\n",
    "random.seed(42)\n",
    "random.shuffle(test_data)\n",
    "validation_data_paths = [path for path in data_paths if path[-3:] in test_data[:-5]]\n",
    "test_data_paths = [path for path in data_paths if path[-3:] in test_data[-5:]]"
   ]
  },
  {
   "cell_type": "markdown",
   "metadata": {},
   "source": [
    "The beats of interest are: \n",
    "1. **`class E`**: contains ventricular escape (E) beats.\n",
    "2. **`class F`**: contains fusion of ventricular and normal (F) and fusion of paced and normal (f) beats.\n",
    "3. **`class N`**: contains normal beat (N), left bundle branch block (L), right bundle branch block (R), atrial premature (A), aberrated atrial premature (a), nodal premature (J), supraventricular premature (S), atrial escape (e) and nodal escape (j) beats.\n",
    "4. **`class V`**: contains contains premature ventricular contraction (V) beats."
   ]
  },
  {
   "cell_type": "code",
   "execution_count": 3,
   "metadata": {},
   "outputs": [],
   "source": [
    "# Generate 50 sequences from both sides of the sample\n",
    "\n",
    "def sequences(symbol, signal, sample, signal_length):\n",
    "    non_beat_annotations = [\"[\", \"!\", \"]\", \"x\", \"(\", \")\", \"p\", \"t\", \"u\", \"`\", \"'\",\n",
    "                        \"^\", \"|\", \"~\", \"+\", \"s\", \"T\", \"*\", \"D\", \"=\", '\"', \"@\"]\n",
    "    \n",
    "    # Following beats are considered for the analysis\n",
    "    beat_annotations = [\"N\", \"L\", \"R\", \"A\", \"a\", \"J\", \"S\", \"V\", \"F\", \"e\", \"j\", \"E\", \"f\"]\n",
    "    \n",
    "    start = sample - 50\n",
    "    end = sample + 50\n",
    "          \n",
    "    if symbol in beat_annotations and start > 0 and end < signal_length:\n",
    "        signal_lead_0 = signal[start:end,0].reshape(1,-1,1)\n",
    "        signal_lead_1 = signal[start:end,1].reshape(1,-1,1)\n",
    "        \n",
    "        return signal_lead_0,signal_lead_1,symbol\n",
    "    \n",
    "    else:\n",
    "        return [], [], []"
   ]
  },
  {
   "cell_type": "code",
   "execution_count": 4,
   "metadata": {},
   "outputs": [],
   "source": [
    "# Scale the data\n",
    "def preprocess(signal):\n",
    "    scaler = StandardScaler()\n",
    "    scaled_signal = scaler.fit_transform(signal)\n",
    "    return scaled_signal"
   ]
  },
  {
   "cell_type": "code",
   "execution_count": 5,
   "metadata": {},
   "outputs": [],
   "source": [
    "# Train, Validation and Test data and labels\n",
    "\n",
    "def generate_data(path):\n",
    "    signal_channel_0 = []\n",
    "    signal_channel_1 = []\n",
    "    labels_channel_0 = []\n",
    "    labels_channel_1 = []\n",
    "    \n",
    "    for file in path:\n",
    "        # Load the ECG signal from 2 leads\n",
    "        record = wfdb.rdrecord(file)\n",
    "        \n",
    "        # Check the frequency is 360\n",
    "        assert record.fs == 360, 'sample frequency is not 360'\n",
    "        scaled_signal = preprocess(record.p_signal)\n",
    "        signal_length = scaled_signal.shape[0]\n",
    "        annotation = wfdb.rdann(file, 'atr')\n",
    "        samples = annotation.sample\n",
    "        symbols = annotation.symbol\n",
    "    \n",
    "        N = ['.', 'N', 'L', 'R', 'A', 'a', 'J', 'S', 'e', 'j']\n",
    "        \n",
    "        for i, sample in enumerate(samples):\n",
    "            signal_0, signal_1, valid_label = sequences(symbols[i], scaled_signal, sample, signal_length)\n",
    "            signal_channel_0.extend(signal_0)\n",
    "            signal_channel_1.extend(signal_1)\n",
    "        \n",
    "            if valid_label != []:\n",
    "                \n",
    "                if valid_label in N:\n",
    "                    label = 'N'\n",
    "                else:\n",
    "                    label = valid_label\n",
    "                \n",
    "                labels_channel_0.append(label)\n",
    "                labels_channel_1.append(label)\n",
    "    \n",
    "    signals = np.vstack((signal_channel_0,signal_channel_1))\n",
    "    labels_channel_0_array = np.array([labels_channel_0]).reshape(-1,1)\n",
    "    labels_channel_1_array = np.array([labels_channel_1]).reshape(-1,1)\n",
    "    labels = np.vstack((labels_channel_0_array,labels_channel_1_array))\n",
    "    \n",
    "    return signals, labels"
   ]
  },
  {
   "cell_type": "code",
   "execution_count": 6,
   "metadata": {},
   "outputs": [],
   "source": [
    "# Train, Validation and Test data and labels\n",
    "\n",
    "train_signals, train_labels = generate_data(train_data_paths)\n",
    "validation_signals, validation_labels = generate_data(validation_data_paths)\n",
    "test_signals, test_labels = generate_data(test_data_paths)"
   ]
  },
  {
   "cell_type": "code",
   "execution_count": 7,
   "metadata": {
    "scrolled": true
   },
   "outputs": [],
   "source": [
    "# One hot encoding of labels\n",
    "\n",
    "label_encoder = LabelEncoder()\n",
    "one_hot_encoder = OneHotEncoder(sparse=False)\n",
    "\n",
    "train_labels_numerical = label_encoder.fit_transform(train_labels.reshape(-1,1))\n",
    "train_labels_encoded = one_hot_encoder.fit_transform(train_labels_numerical.reshape(-1,1))\n",
    "\n",
    "validation_labels_numerical = label_encoder.transform(validation_labels.reshape(-1,1))\n",
    "validation_labels_encoded = one_hot_encoder.transform(validation_labels_numerical.reshape(-1,1))\n",
    "\n",
    "test_labels_numerical = label_encoder.transform(test_labels.reshape(-1,1))\n",
    "test_labels_encoded = one_hot_encoder.transform(test_labels_numerical.reshape(-1,1))"
   ]
  },
  {
   "cell_type": "markdown",
   "metadata": {},
   "source": [
    "Different types of ECG signals analysed are shown below:"
   ]
  },
  {
   "cell_type": "code",
   "execution_count": 8,
   "metadata": {
    "scrolled": true
   },
   "outputs": [
    {
     "data": {
      "image/png": "[encoded data removed]",
      "text/plain": [
       "<Figure size 432x288 with 1 Axes>"
      ]
     },
     "metadata": {
      "needs_background": "light"
     },
     "output_type": "display_data"
    }
   ],
   "source": [
    "wfdb.plot.plot_items(train_signals[34570], title=train_labels[34570])"
   ]
  },
  {
   "cell_type": "code",
   "execution_count": 9,
   "metadata": {},
   "outputs": [
    {
     "data": {
      "image/png": "[encoded data removed]",
      "text/plain": [
       "<Figure size 432x288 with 1 Axes>"
      ]
     },
     "metadata": {
      "needs_background": "light"
     },
     "output_type": "display_data"
    }
   ],
   "source": [
    "wfdb.plot.plot_items(train_signals[4362], title=train_labels[4362])"
   ]
  },
  {
   "cell_type": "code",
   "execution_count": 10,
   "metadata": {},
   "outputs": [
    {
     "data": {
      "image/png": "[encoded data removed]",
      "text/plain": [
       "<Figure size 432x288 with 1 Axes>"
      ]
     },
     "metadata": {
      "needs_background": "light"
     },
     "output_type": "display_data"
    }
   ],
   "source": [
    "wfdb.plot.plot_items(train_signals[0], title=train_labels[0])"
   ]
  },
  {
   "cell_type": "code",
   "execution_count": 11,
   "metadata": {},
   "outputs": [
    {
     "data": {
      "image/png": "[encoded data removed]",
      "text/plain": [
       "<Figure size 432x288 with 1 Axes>"
      ]
     },
     "metadata": {
      "needs_background": "light"
     },
     "output_type": "display_data"
    }
   ],
   "source": [
    "wfdb.plot.plot_items(train_signals[1967], title=train_labels[1967])"
   ]
  },
  {
   "cell_type": "markdown",
   "metadata": {},
   "source": [
    "### Generator\n",
    "Generate data for the model"
   ]
  },
  {
   "cell_type": "code",
   "execution_count": 12,
   "metadata": {},
   "outputs": [],
   "source": [
    "def generator(X, y, batch_size):\n",
    "    num_batches = len(X)//batch_size\n",
    "    while True:\n",
    "        np.random.seed(100)\n",
    "        shuffle_sequence = np.random.permutation(len(X))\n",
    "        X = X[shuffle_sequence]\n",
    "        y = y[shuffle_sequence]\n",
    "        \n",
    "        for batch in range(num_batches):\n",
    "            batch_data = np.zeros((batch_size,100,1))\n",
    "            batch_labels = np.zeros((batch_size,4))\n",
    "        \n",
    "            for folder in range(batch_size):\n",
    "                batch_data[folder,:,:] = X[folder + (batch*batch_size),:,:]\n",
    "                batch_labels[folder,:] = y[folder + (batch*batch_size),:]\n",
    "            yield batch_data.reshape(batch_size,1,100,1), batch_labels.reshape(batch_size,4)\n",
    "            \n",
    "            \n",
    "        if (len(X)%batch_size != 0):\n",
    "            batch_size = len(X) % batch_size\n",
    "            \n",
    "            batch_data = np.zeros((batch_size,100,1))\n",
    "            batch_labels = np.zeros((batch_size,4))\n",
    "        \n",
    "            for folder in range(batch_size):\n",
    "                batch_data[folder,:,:] = X[folder + (num_batches*batch_size),:,:]\n",
    "                batch_labels[folder,:] = y[folder + (num_batches*batch_size),:]\n",
    "            yield batch_data.reshape(batch_size,1,100,1), batch_labels.reshape(batch_size,4)"
   ]
  },
  {
   "cell_type": "code",
   "execution_count": 13,
   "metadata": {},
   "outputs": [
    {
     "name": "stdout",
     "output_type": "stream",
     "text": [
      "Shape of train data: (102016, 100, 1)\n",
      "Shape of train labels: (102016, 4)\n",
      "Shape of validation data: (76214, 100, 1)\n",
      "Shape of validation labels: (76214, 4)\n",
      "Shape of test data: (23186, 100, 1)\n",
      "Shape of test labels: (23186, 4)\n"
     ]
    }
   ],
   "source": [
    "print('Shape of train data:', train_signals.shape)\n",
    "print('Shape of train labels:', train_labels_encoded.shape)\n",
    "print('Shape of validation data:', validation_signals.shape)\n",
    "print('Shape of validation labels:', validation_labels_encoded.shape)\n",
    "print('Shape of test data:', test_signals.shape)\n",
    "print('Shape of test labels:', test_labels_encoded.shape)"
   ]
  },
  {
   "cell_type": "code",
   "execution_count": 14,
   "metadata": {},
   "outputs": [],
   "source": [
    "batch_size = 2048\n",
    "train_generator = generator(train_signals, train_labels_encoded, batch_size)\n",
    "val_generator = generator(validation_signals, validation_labels_encoded, batch_size)"
   ]
  },
  {
   "cell_type": "markdown",
   "metadata": {},
   "source": [
    "### Model"
   ]
  },
  {
   "cell_type": "code",
   "execution_count": 15,
   "metadata": {},
   "outputs": [
    {
     "name": "stdout",
     "output_type": "stream",
     "text": [
      "WARNING:tensorflow:From C:\\Users\\Thomas\\Anaconda3\\lib\\site-packages\\keras\\backend\\tensorflow_backend.py:4070: The name tf.nn.max_pool is deprecated. Please use tf.nn.max_pool2d instead.\n",
      "\n"
     ]
    }
   ],
   "source": [
    "from keras.models import Sequential, Model\n",
    "from keras.layers import Dense, LSTM, Flatten, TimeDistributed, BatchNormalization, Activation\n",
    "from keras.layers.convolutional import Conv1D, MaxPooling1D\n",
    "from keras.callbacks import ModelCheckpoint, ReduceLROnPlateau\n",
    "from keras import optimizers\n",
    "model = Sequential()\n",
    "\n",
    "model.add(TimeDistributed(Conv1D(32, 5, activation='elu'), input_shape=(None, 100, 1)))\n",
    "model.add(TimeDistributed(BatchNormalization()))\n",
    "model.add(TimeDistributed(MaxPooling1D(8, strides=1)))\n",
    "\n",
    "model.add(TimeDistributed(Conv1D(32, 5, activation='elu'), input_shape=(None, 100, 1)))\n",
    "model.add(TimeDistributed(BatchNormalization()))\n",
    "model.add(TimeDistributed(MaxPooling1D(8, strides=1)))\n",
    "\n",
    "\n",
    "model.add(TimeDistributed(Conv1D(64, 4, activation='elu')))\n",
    "model.add(TimeDistributed(BatchNormalization()))\n",
    "model.add(TimeDistributed(MaxPooling1D(8, strides=1)))\n",
    "\n",
    "model.add(TimeDistributed(Conv1D(64, 4, activation='elu')))\n",
    "model.add(TimeDistributed(BatchNormalization()))\n",
    "model.add(TimeDistributed(MaxPooling1D(8, strides=1)))\n",
    "\n",
    "\n",
    "model.add(TimeDistributed(Conv1D(128, 3, activation='elu')))\n",
    "model.add(TimeDistributed(BatchNormalization()))\n",
    "model.add(TimeDistributed(MaxPooling1D(8, strides=1)))\n",
    "\n",
    "model.add(TimeDistributed(Conv1D(128, 3, activation='elu')))\n",
    "model.add(TimeDistributed(BatchNormalization()))\n",
    "model.add(TimeDistributed(MaxPooling1D(8, strides=1)))\n",
    "\n",
    "\n",
    "model.add(TimeDistributed(Conv1D(256, 2, activation='elu')))\n",
    "model.add(TimeDistributed(BatchNormalization()))\n",
    "model.add(TimeDistributed(MaxPooling1D(8, strides=1)))\n",
    "\n",
    "model.add(TimeDistributed(Conv1D(256, 2, activation='elu')))\n",
    "model.add(TimeDistributed(BatchNormalization()))\n",
    "model.add(TimeDistributed(MaxPooling1D(8, strides=1)))\n",
    "\n",
    "\n",
    "# extract features and dropout \n",
    "model.add(TimeDistributed(Flatten()))\n",
    "\n",
    "model.add(TimeDistributed(Dense(256, activation='elu')))\n",
    "\n",
    "\n",
    "# input to LSTM\n",
    "model.add(LSTM(256, return_sequences=False, dropout=0.5))\n",
    "\n",
    "\n",
    "# classifier with sigmoid activation for multilabel\n",
    "model.add(Dense(4, activation='softmax'))"
   ]
  },
  {
   "cell_type": "code",
   "execution_count": 16,
   "metadata": {
    "scrolled": false
   },
   "outputs": [
    {
     "name": "stdout",
     "output_type": "stream",
     "text": [
      "Model: \"sequential_1\"\n",
      "_________________________________________________________________\n",
      "Layer (type)                 Output Shape              Param #   \n",
      "=================================================================\n",
      "time_distributed_1 (TimeDist (None, None, 96, 32)      192       \n",
      "_________________________________________________________________\n",
      "time_distributed_2 (TimeDist (None, None, 96, 32)      128       \n",
      "_________________________________________________________________\n",
      "time_distributed_3 (TimeDist (None, None, 89, 32)      0         \n",
      "_________________________________________________________________\n",
      "time_distributed_4 (TimeDist (None, None, 85, 32)      5152      \n",
      "_________________________________________________________________\n",
      "time_distributed_5 (TimeDist (None, None, 85, 32)      128       \n",
      "_________________________________________________________________\n",
      "time_distributed_6 (TimeDist (None, None, 78, 32)      0         \n",
      "_________________________________________________________________\n",
      "time_distributed_7 (TimeDist (None, None, 75, 64)      8256      \n",
      "_________________________________________________________________\n",
      "time_distributed_8 (TimeDist (None, None, 75, 64)      256       \n",
      "_________________________________________________________________\n",
      "time_distributed_9 (TimeDist (None, None, 68, 64)      0         \n",
      "_________________________________________________________________\n",
      "time_distributed_10 (TimeDis (None, None, 65, 64)      16448     \n",
      "_________________________________________________________________\n",
      "time_distributed_11 (TimeDis (None, None, 65, 64)      256       \n",
      "_________________________________________________________________\n",
      "time_distributed_12 (TimeDis (None, None, 58, 64)      0         \n",
      "_________________________________________________________________\n",
      "time_distributed_13 (TimeDis (None, None, 56, 128)     24704     \n",
      "_________________________________________________________________\n",
      "time_distributed_14 (TimeDis (None, None, 56, 128)     512       \n",
      "_________________________________________________________________\n",
      "time_distributed_15 (TimeDis (None, None, 49, 128)     0         \n",
      "_________________________________________________________________\n",
      "time_distributed_16 (TimeDis (None, None, 47, 128)     49280     \n",
      "_________________________________________________________________\n",
      "time_distributed_17 (TimeDis (None, None, 47, 128)     512       \n",
      "_________________________________________________________________\n",
      "time_distributed_18 (TimeDis (None, None, 40, 128)     0         \n",
      "_________________________________________________________________\n",
      "time_distributed_19 (TimeDis (None, None, 39, 256)     65792     \n",
      "_________________________________________________________________\n",
      "time_distributed_20 (TimeDis (None, None, 39, 256)     1024      \n",
      "_________________________________________________________________\n",
      "time_distributed_21 (TimeDis (None, None, 32, 256)     0         \n",
      "_________________________________________________________________\n",
      "time_distributed_22 (TimeDis (None, None, 31, 256)     131328    \n",
      "_________________________________________________________________\n",
      "time_distributed_23 (TimeDis (None, None, 31, 256)     1024      \n",
      "_________________________________________________________________\n",
      "time_distributed_24 (TimeDis (None, None, 24, 256)     0         \n",
      "_________________________________________________________________\n",
      "time_distributed_25 (TimeDis (None, None, 6144)        0         \n",
      "_________________________________________________________________\n",
      "time_distributed_26 (TimeDis (None, None, 256)         1573120   \n",
      "_________________________________________________________________\n",
      "lstm_1 (LSTM)                (None, 256)               525312    \n",
      "_________________________________________________________________\n",
      "dense_2 (Dense)              (None, 4)                 1028      \n",
      "=================================================================\n",
      "Total params: 2,404,452\n",
      "Trainable params: 2,402,532\n",
      "Non-trainable params: 1,920\n",
      "_________________________________________________________________\n"
     ]
    }
   ],
   "source": [
    "from keras import optimizers\n",
    "optimizer = optimizers.Adam()\n",
    "model.compile(loss=\"categorical_crossentropy\",\n",
    "              optimizer=optimizer,\n",
    "              metrics=[\"categorical_accuracy\"])\n",
    "model.summary()"
   ]
  },
  {
   "cell_type": "code",
   "execution_count": 17,
   "metadata": {},
   "outputs": [
    {
     "name": "stdout",
     "output_type": "stream",
     "text": [
      "# training sequences = 102016\n",
      "# validation sequences = 76214\n",
      "# epochs = 15\n"
     ]
    }
   ],
   "source": [
    "curr_dt_time = datetime.datetime.now()\n",
    "num_train_sequences = len(train_signals)\n",
    "print('# training sequences =', num_train_sequences)\n",
    "num_val_sequences = len(validation_signals)\n",
    "print('# validation sequences =', num_val_sequences)\n",
    "num_epochs = 15# choose the number of epochs\n",
    "print ('# epochs =', num_epochs)"
   ]
  },
  {
   "cell_type": "code",
   "execution_count": 18,
   "metadata": {},
   "outputs": [],
   "source": [
    "if (num_train_sequences%batch_size) == 0:\n",
    "    steps_per_epoch = int(num_train_sequences/batch_size)\n",
    "else:\n",
    "    steps_per_epoch = (num_train_sequences//batch_size) + 1\n",
    "\n",
    "if (num_val_sequences%batch_size) == 0:\n",
    "    validation_steps = int(num_val_sequences/batch_size)\n",
    "else:\n",
    "    validation_steps = (num_val_sequences//batch_size) + 1"
   ]
  },
  {
   "cell_type": "code",
   "execution_count": 19,
   "metadata": {},
   "outputs": [],
   "source": [
    "model_name = 'model_init' + '_' + str(curr_dt_time).replace(' ','').replace(':','_') + '/'\n",
    "    \n",
    "if not os.path.exists(model_name):\n",
    "    os.mkdir(model_name)\n",
    "        \n",
    "filepath = model_name + 'model-{epoch:05d}-{loss:.3f}-{categorical_accuracy:.3f}-{val_loss:.3f}-{val_categorical_accuracy:.3f}.h5'\n",
    "\n",
    "checkpoint = ModelCheckpoint(filepath,monitor='val_loss', verbose=1, save_best_only=True, save_weights_only=True, mode='auto', period=1)\n",
    "\n",
    "LR = ReduceLROnPlateau(monitor='val_loss', factor=0.1, patience=2, cooldown=1, verbose=1) # write the REducelronplateau code here\n",
    "callbacks_list = [checkpoint, LR]"
   ]
  },
  {
   "cell_type": "code",
   "execution_count": 20,
   "metadata": {
    "scrolled": true
   },
   "outputs": [
    {
     "name": "stdout",
     "output_type": "stream",
     "text": [
      "WARNING:tensorflow:From C:\\Users\\Thomas\\Anaconda3\\lib\\site-packages\\keras\\backend\\tensorflow_backend.py:422: The name tf.global_variables is deprecated. Please use tf.compat.v1.global_variables instead.\n",
      "\n",
      "Epoch 1/15\n",
      "50/50 [==============================] - 579s 12s/step - loss: 0.1797 - categorical_accuracy: 0.9436 - val_loss: 1.7025 - val_categorical_accuracy: 0.2443\n",
      "\n",
      "Epoch 00001: val_loss improved from inf to 1.70250, saving model to model_init_2020-06-2610_14_19.347766/model-00001-0.180-0.944-1.703-0.244.h5\n",
      "Epoch 2/15\n",
      "50/50 [==============================] - 365s 7s/step - loss: 0.0849 - categorical_accuracy: 0.9750 - val_loss: 0.5120 - val_categorical_accuracy: 0.5780\n",
      "\n",
      "Epoch 00002: val_loss improved from 1.70250 to 0.51195, saving model to model_init_2020-06-2610_14_19.347766/model-00002-0.085-0.975-0.512-0.578.h5\n",
      "Epoch 3/15\n",
      "50/50 [==============================] - 101s 2s/step - loss: 0.0847 - categorical_accuracy: 0.9754 - val_loss: 1.3535 - val_categorical_accuracy: 0.8158\n",
      "\n",
      "Epoch 00003: val_loss did not improve from 0.51195\n",
      "Epoch 4/15\n",
      "50/50 [==============================] - 24s 481ms/step - loss: 0.1734 - categorical_accuracy: 0.9466 - val_loss: 0.0105 - val_categorical_accuracy: 0.9474\n",
      "\n",
      "Epoch 00004: val_loss improved from 0.51195 to 0.01048, saving model to model_init_2020-06-2610_14_19.347766/model-00004-0.173-0.947-0.010-0.947.h5\n",
      "Epoch 5/15\n",
      "50/50 [==============================] - 28s 561ms/step - loss: 0.1512 - categorical_accuracy: 0.9559 - val_loss: 0.0214 - val_categorical_accuracy: 0.9737\n",
      "\n",
      "Epoch 00005: val_loss did not improve from 0.01048\n",
      "Epoch 6/15\n",
      "50/50 [==============================] - 23s 457ms/step - loss: 0.1588 - categorical_accuracy: 0.9517 - val_loss: 0.0018 - val_categorical_accuracy: 0.9605\n",
      "\n",
      "Epoch 00006: val_loss improved from 0.01048 to 0.00182, saving model to model_init_2020-06-2610_14_19.347766/model-00006-0.159-0.952-0.002-0.961.h5\n",
      "Epoch 7/15\n",
      "50/50 [==============================] - 23s 469ms/step - loss: 0.1424 - categorical_accuracy: 0.9572 - val_loss: 0.4603 - val_categorical_accuracy: 0.9342\n",
      "\n",
      "Epoch 00007: val_loss did not improve from 0.00182\n",
      "Epoch 8/15\n",
      "50/50 [==============================] - 22s 450ms/step - loss: 0.1308 - categorical_accuracy: 0.9605 - val_loss: 0.2160 - val_categorical_accuracy: 0.8947\n",
      "\n",
      "Epoch 00008: val_loss did not improve from 0.00182\n",
      "\n",
      "Epoch 00008: ReduceLROnPlateau reducing learning rate to 0.00010000000474974513.\n",
      "Epoch 9/15\n",
      "50/50 [==============================] - 23s 463ms/step - loss: 0.1063 - categorical_accuracy: 0.9686 - val_loss: 0.2330 - val_categorical_accuracy: 0.8553\n",
      "\n",
      "Epoch 00009: val_loss did not improve from 0.00182\n",
      "Epoch 10/15\n",
      "50/50 [==============================] - 23s 454ms/step - loss: 0.0928 - categorical_accuracy: 0.9737 - val_loss: 0.0338 - val_categorical_accuracy: 0.8947\n",
      "\n",
      "Epoch 00010: val_loss did not improve from 0.00182\n",
      "\n",
      "Epoch 00010: ReduceLROnPlateau reducing learning rate to 1.0000000474974514e-05.\n",
      "Epoch 11/15\n",
      "50/50 [==============================] - 23s 456ms/step - loss: 0.0925 - categorical_accuracy: 0.9727 - val_loss: 0.0099 - val_categorical_accuracy: 0.8684\n",
      "\n",
      "Epoch 00011: val_loss did not improve from 0.00182\n",
      "Epoch 12/15\n",
      "50/50 [==============================] - 22s 450ms/step - loss: 0.0866 - categorical_accuracy: 0.9745 - val_loss: 0.4648 - val_categorical_accuracy: 0.8421\n",
      "\n",
      "Epoch 00012: val_loss did not improve from 0.00182\n",
      "\n",
      "Epoch 00012: ReduceLROnPlateau reducing learning rate to 1.0000000656873453e-06.\n",
      "Epoch 13/15\n",
      "50/50 [==============================] - 22s 449ms/step - loss: 0.0884 - categorical_accuracy: 0.9748 - val_loss: 1.5335 - val_categorical_accuracy: 0.8947\n",
      "\n",
      "Epoch 00013: val_loss did not improve from 0.00182\n",
      "Epoch 14/15\n",
      "50/50 [==============================] - 23s 455ms/step - loss: 0.0830 - categorical_accuracy: 0.9764 - val_loss: 0.0023 - val_categorical_accuracy: 0.9211\n",
      "\n",
      "Epoch 00014: val_loss did not improve from 0.00182\n",
      "\n",
      "Epoch 00014: ReduceLROnPlateau reducing learning rate to 1.0000001111620805e-07.\n",
      "Epoch 15/15\n",
      "50/50 [==============================] - 23s 457ms/step - loss: 0.0869 - categorical_accuracy: 0.9742 - val_loss: 0.0684 - val_categorical_accuracy: 0.9342\n",
      "\n",
      "Epoch 00015: val_loss did not improve from 0.00182\n"
     ]
    }
   ],
   "source": [
    "history = model.fit_generator(generator=train_generator, steps_per_epoch=steps_per_epoch, epochs=num_epochs, verbose=1, \n",
    "                    callbacks=callbacks_list,validation_data = val_generator, \n",
    "                    validation_steps=validation_steps, class_weight=None, shuffle=True, workers=1, initial_epoch=0, use_multiprocessing=False)"
   ]
  },
  {
   "cell_type": "code",
   "execution_count": 21,
   "metadata": {
    "scrolled": false
   },
   "outputs": [
    {
     "data": {
      "image/png": "[encoded data removed]",
      "text/plain": [
       "<Figure size 432x288 with 1 Axes>"
      ]
     },
     "metadata": {
      "needs_background": "light"
     },
     "output_type": "display_data"
    }
   ],
   "source": [
    "plt.plot(history.history['categorical_accuracy'])\n",
    "plt.plot(history.history['val_categorical_accuracy'])\n",
    "plt.title('model accuracy')\n",
    "plt.ylabel('accuracy')\n",
    "plt.xlabel('epoch')\n",
    "plt.legend(['train', 'test'], loc='upper left')\n",
    "plt.show()"
   ]
  },
  {
   "cell_type": "code",
   "execution_count": 22,
   "metadata": {},
   "outputs": [
    {
     "data": {
      "image/png": "[encoded data removed]",
      "text/plain": [
       "<Figure size 432x288 with 1 Axes>"
      ]
     },
     "metadata": {
      "needs_background": "light"
     },
     "output_type": "display_data"
    }
   ],
   "source": [
    "plt.plot(history.history['loss'])\n",
    "plt.plot(history.history['val_loss'])\n",
    "plt.title('model loss')\n",
    "plt.ylabel('loss')\n",
    "plt.xlabel('epoch')\n",
    "plt.legend(['train', 'test'], loc='upper left')\n",
    "plt.show()"
   ]
  },
  {
   "cell_type": "markdown",
   "metadata": {},
   "source": [
    "### Model Evaluation"
   ]
  },
  {
   "cell_type": "code",
   "execution_count": 23,
   "metadata": {},
   "outputs": [],
   "source": [
    "# Save the model\n",
    "model.save('model-00006-0.159-0.952-0.002-0.961.h5')"
   ]
  },
  {
   "cell_type": "code",
   "execution_count": 24,
   "metadata": {},
   "outputs": [],
   "source": [
    "from keras.models import load_model\n",
    "\n",
    "# Load the model for evaluation\n",
    "test_model = load_model('model-00006-0.159-0.952-0.002-0.961.h5')"
   ]
  },
  {
   "cell_type": "code",
   "execution_count": 25,
   "metadata": {},
   "outputs": [],
   "source": [
    "# Reshape the test data for prediction\n",
    "test_signals_reshaped = test_signals.reshape(test_signals.shape[0], -1, test_signals.shape[1], test_signals.shape[2])"
   ]
  },
  {
   "cell_type": "code",
   "execution_count": 26,
   "metadata": {},
   "outputs": [],
   "source": [
    "# Predict the test data\n",
    "test_results = test_model.predict(test_signals_reshaped[:,:,:,:])\n",
    "test_predicted = np.argmax(test_results, axis=1)"
   ]
  },
  {
   "cell_type": "code",
   "execution_count": 27,
   "metadata": {
    "scrolled": true
   },
   "outputs": [
    {
     "name": "stdout",
     "output_type": "stream",
     "text": [
      "[[    0    21     5]\n",
      " [   10 19737    91]\n",
      " [    9   930  2383]]\n"
     ]
    }
   ],
   "source": [
    "# Confusion Matrix\n",
    "confusion_matrix = metrics.confusion_matrix(test_labels_numerical, test_predicted)\n",
    "print(confusion_matrix)"
   ]
  },
  {
   "cell_type": "code",
   "execution_count": 28,
   "metadata": {
    "scrolled": true
   },
   "outputs": [
    {
     "name": "stdout",
     "output_type": "stream",
     "text": [
      "              precision    recall  f1-score   support\n",
      "\n",
      "           1       0.00      0.00      0.00        26\n",
      "           2       0.95      0.99      0.97     19838\n",
      "           3       0.96      0.72      0.82      3322\n",
      "\n",
      "    accuracy                           0.95     23186\n",
      "   macro avg       0.64      0.57      0.60     23186\n",
      "weighted avg       0.95      0.95      0.95     23186\n",
      "\n"
     ]
    }
   ],
   "source": [
    "# Classification_report\n",
    "print(metrics.classification_report(test_labels_numerical, test_predicted))"
   ]
  },
  {
   "cell_type": "markdown",
   "metadata": {},
   "source": [
    "Created a model with 95% accuracy for arrhythmia detection using 1D ECG signals."
   ]
  }
 ],
 "metadata": {
  "kernelspec": {
   "display_name": "Python 3",
   "language": "python",
   "name": "python3"
  },
  "language_info": {
   "codemirror_mode": {
    "name": "ipython",
    "version": 3
   },
   "file_extension": ".py",
   "mimetype": "text/x-python",
   "name": "python",
   "nbconvert_exporter": "python",
   "pygments_lexer": "ipython3",
   "version": "3.7.3"
  }
 },
 "nbformat": 4,
 "nbformat_minor": 2
}
